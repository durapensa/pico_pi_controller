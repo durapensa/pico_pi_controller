{
 "cells": [
  {
   "cell_type": "markdown",
   "id": "north-attitude",
   "metadata": {},
   "source": [
    "# ppc_pi\n",
    "\n",
    "> Daemon to run on Raspberry Pi for control & monitoring by Raspberry Pi Pico running CircuitPython and the included `ppc_pico.py` file in this direcotry."
   ]
  },
  {
   "cell_type": "code",
   "execution_count": 5,
   "id": "czech-singapore",
   "metadata": {},
   "outputs": [],
   "source": [
    "import board\n",
    "import digitalio\n",
    "import busio"
   ]
  },
  {
   "cell_type": "code",
   "execution_count": 2,
   "id": "arabic-briefing",
   "metadata": {},
   "outputs": [
    {
     "name": "stdout",
     "output_type": "stream",
     "text": [
      "Hello blinka!\n",
      "RASPBERRY_PI_3A_PLUS\n"
     ]
    }
   ],
   "source": [
    "print(\"Hello blinka!\")\n",
    "print(board.board_id)"
   ]
  },
  {
   "cell_type": "code",
   "execution_count": 3,
   "id": "mexican-spencer",
   "metadata": {},
   "outputs": [
    {
     "name": "stdout",
     "output_type": "stream",
     "text": [
      "Digital IO ok!\n"
     ]
    }
   ],
   "source": [
    "# Try to great a Digital input\n",
    "pin = digitalio.DigitalInOut(board.D4)\n",
    "print(\"Digital IO ok!\")"
   ]
  },
  {
   "cell_type": "code",
   "execution_count": 7,
   "id": "published-gnome",
   "metadata": {},
   "outputs": [
    {
     "name": "stdout",
     "output_type": "stream",
     "text": [
      "I2C ok!\n"
     ]
    }
   ],
   "source": [
    "i2c = busio.I2C(scl=board.SCL, sda=board.SDA)\n",
    "print(\"I2C ok!\")"
   ]
  },
  {
   "cell_type": "code",
   "execution_count": null,
   "id": "classical-cache",
   "metadata": {},
   "outputs": [],
   "source": []
  }
 ],
 "metadata": {
  "kernelspec": {
   "display_name": "Python 3",
   "language": "python",
   "name": "python3"
  },
  "language_info": {
   "codemirror_mode": {
    "name": "ipython",
    "version": 3
   },
   "file_extension": ".py",
   "mimetype": "text/x-python",
   "name": "python",
   "nbconvert_exporter": "python",
   "pygments_lexer": "ipython3",
   "version": "3.7.3"
  }
 },
 "nbformat": 4,
 "nbformat_minor": 5
}
