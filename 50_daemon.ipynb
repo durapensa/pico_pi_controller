{
 "cells": [
  {
   "cell_type": "code",
   "execution_count": null,
   "id": "experienced-breeding",
   "metadata": {},
   "outputs": [],
   "source": [
    "# default_exp daemon"
   ]
  },
  {
   "cell_type": "markdown",
   "id": "likely-assurance",
   "metadata": {},
   "source": [
    "# pico_pi_controller.daemon\n",
    "> System daemon"
   ]
  },
  {
   "cell_type": "code",
   "execution_count": null,
   "id": "vulnerable-beads",
   "metadata": {},
   "outputs": [],
   "source": [
    "# hide\n",
    "# from nbdev.showdoc import *"
   ]
  },
  {
   "cell_type": "code",
   "execution_count": null,
   "id": "accepted-belfast",
   "metadata": {},
   "outputs": [],
   "source": [
    "from pico_pi_controller.core import *"
   ]
  },
  {
   "cell_type": "code",
   "execution_count": null,
   "id": "following-apparatus",
   "metadata": {},
   "outputs": [],
   "source": [
    "# export\n",
    "\n",
    "def i2c_event_handler(id, tick):\n",
    "    \"\"\"Copied from local ppdd.py.\"\"\"\n",
    "    global pi\n",
    "    global i2c_addr\n",
    "    global flicker\n",
    "\n",
    "    def regIDF():\n",
    "        print (\"IDF recieved, sending identity:\",IDENTITY.decode(),\"on tick\",tick)\n",
    "        s, b, d = pi.bsc_i2c(i2c_addr,IDENTITY)\n",
    "        \n",
    "    def regTIM():\n",
    "        dt = datetime.now()\n",
    "        dt=dt.replace(tzinfo=timezone(timedelta(0),'UTC')) #send local time converted from UTC of system time\n",
    "        ts=dt.timestamp()\n",
    "        print (\"TIM recieved, sending bytes len, time.time():\",len((bytearray(int(ts).to_bytes(4,byteorder)))), int(ts))\n",
    "        s, b, d = pi.bsc_i2c(i2c_addr,bytearray(int(ts).to_bytes(4,byteorder)))\n",
    "\n",
    "    def regBOS():\n",
    "        print (\"BOS recieved, sending bosmang status:\",bosmang.decode())\n",
    "        s, b, d = pi.bsc_i2c(i2c_addr,bosmang)\n",
    "        \n",
    "    def regCMD():\n",
    "            print (\"CMD recieved, sending queud command code (or 0 if none):\",cmd_code.decode())\n",
    "            s, b, d = pi.bsc_i2c(i2c_addr,cmd_code)\n",
    "            \n",
    "    def regHOS():\n",
    "        print (\"HOS recieved, sending hostname:\",hostname.decode())\n",
    "        s, b, d = pi.bsc_i2c(i2c_addr, bytes([len(hostname)])+hostname)\n",
    "\n",
    "    def regLOD():\n",
    "        load = bytearray(\"{:04.2f}\".format(os.getloadavg()[0]),'utf-8')\n",
    "        print (\"LOD recieved, sending load:\",load.decode())\n",
    "        s, b, d = pi.bsc_i2c(i2c_addr,load)\n",
    "\n",
    "    def regUPT():\n",
    "        # so the PPC can pause and wait for the long-ish uptime fetch\n",
    "        s, b, d = pi.bsc_i2c(i2c_addr,pause)\n",
    "        uptimeba = bytearray(int(uptime()).to_bytes(4,byteorder))\n",
    "        print (\"UPT recieved, sending uptime:\",int.from_bytes(bytes(uptimeba),byteorder))\n",
    "        s, b, d = pi.bsc_i2c(i2c_addr,uptimeba)\n",
    "    \n",
    "    def regTZN():\n",
    "        print (\"TZN recieved, sending bytes len, time.timezone():\",\n",
    "            len((bytearray(time.timezone.to_bytes(3,byteorder)))), time.timezone)\n",
    "        s, b, d = pi.bsc_i2c(i2c_addr,bytearray(time.timezone.to_bytes(3,byteorder)))\n",
    "\n",
    "    def regFLK():\n",
    "        print (\"FLK recieved, Flickering PWR LED for\",d[1],\"seconds.\")\n",
    "        flicker = PwrLedFlicker(duration=d[1])\n",
    "        flicker.start()\n",
    "\n",
    "    def regCLR():\n",
    "        print (\"CLR recieved, sending empty message.\")\n",
    "        s, b, d = pi.bsc_i2c(i2c_addr,empty)\n",
    "           \n",
    "    s, b, d = pi.bsc_i2c(i2c_address)\n",
    "    if b and d[0] in REG_INT:\n",
    "        reg_handler = getattr(i2c_event_handler, 'reg'+REG_NAME[d[0]])\n",
    "        reg_handler()\n",
    "\n",
    "\n",
    "def main():\n",
    "    global pi\n",
    "    global flicker\n",
    "               \n",
    "    os.environ['TZ']=\"America/New_York\"\n",
    "    time.tzset()\n",
    "\n",
    "    @atexit.register\n",
    "    def goodbye():\n",
    "        \"\"\"Cancel pigpio event handler, close I2C peripheral & connection to pigpio\"\"\"\n",
    "        try:\n",
    "            e.cancel()\n",
    "            pi.bsc_i2c(0) # Disable BSC peripheral\n",
    "            pi.stop()\n",
    "            print (\"bsc_i2c cleanup completed.\")\n",
    "        except:\n",
    "            print (\"bsc_i2c error on cleanup.\")\n",
    "        print ('Exiting via atexit')\n",
    "               \n",
    "    flicker = PwrLedFlicker(duration=1)\n",
    "    flicker.start()\n",
    "    print(\"PP Device daemon: Initializing I2C peripheral on address\",hex(I2C_ADDR))\n",
    "    print(\"PP Device daemon: bosmang:\",bool(bosmang.decode()))\n",
    "    print(\"PP Device daemon: hostname:\",hostname.decode())\n",
    "                                                                         \n",
    "    pi = pigpio.pi()\n",
    "    if not pi.connected:\n",
    "        print (\"pigpiod not running. Exiting.\")\n",
    "        exit()\n",
    "                                                                         \n",
    "    # setup event handler for incoming I2C messages from PPController\n",
    "    e = pi.event_callback(pigpio.EVENT_BSC, self.i2c_event_handler)\n",
    "    pi.bsc_i2c(i2c_addr)                                  \n",
    "                                                                         \n",
    "    while True:\n",
    "        #here goes the socket connection for ppcc & listening for system events\n",
    "        time.sleep(600)"
   ]
  },
  {
   "cell_type": "code",
   "execution_count": null,
   "id": "dying-auditor",
   "metadata": {},
   "outputs": [
    {
     "data": {
      "application/javascript": [
       "IPython.notebook.save_checkpoint();"
      ],
      "text/plain": [
       "<IPython.core.display.Javascript object>"
      ]
     },
     "metadata": {},
     "output_type": "display_data"
    },
    {
     "name": "stdout",
     "output_type": "stream",
     "text": [
      "Converted 00_core.ipynb.\n",
      "Converted 50_daemon.ipynb.\n",
      "Converted index.ipynb.\n"
     ]
    }
   ],
   "source": [
    "# hide\n",
    "try:\n",
    "    from IPython.display import display, Javascript\n",
    "    display(Javascript('IPython.notebook.save_checkpoint();'))\n",
    "    from time import sleep\n",
    "    sleep(0.3)\n",
    "    from nbdev.export import notebook2script\n",
    "    notebook2script()\n",
    "except ModuleNotFoundError:\n",
    "    pass\n",
    "    \"\"\"CircuitPython kernel has no nbdev\"\"\""
   ]
  },
  {
   "cell_type": "code",
   "execution_count": null,
   "id": "threatened-maldives",
   "metadata": {},
   "outputs": [],
   "source": []
  }
 ],
 "metadata": {
  "kernelspec": {
   "display_name": "Python 3",
   "language": "python",
   "name": "python3"
  }
 },
 "nbformat": 4,
 "nbformat_minor": 5
}
