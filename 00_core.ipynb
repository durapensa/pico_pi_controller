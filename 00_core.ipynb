{
 "cells": [
  {
   "cell_type": "code",
   "execution_count": 4,
   "metadata": {},
   "outputs": [],
   "source": [
    "# default_exp core"
   ]
  },
  {
   "cell_type": "markdown",
   "metadata": {},
   "source": [
    "# pico_pi_controller\n",
    "\n",
    "> A service interface for a Raspberry Pi 2/3 to be monitored & controlled from a CircuitPython capable microcontroller. Use on a RPi 4 requires a solution to enable i2c perpheral support on RPi4.\n",
    "\n",
    "This module uses `pigpio` to enable a peripheral (slave) device; `pigpiod` must be running."
   ]
  },
  {
   "cell_type": "code",
   "execution_count": 2,
   "metadata": {},
   "outputs": [],
   "source": [
    "#hide\n",
    "#from nbdev.showdoc import *"
   ]
  },
  {
   "cell_type": "code",
   "execution_count": 3,
   "metadata": {},
   "outputs": [],
   "source": [
    "#export\n",
    "import time\n",
    "import atexit\n",
    "import pigpio\n",
    "\n",
    "# same arbitrary i2c address as pigpio example\n",
    "I2C_ADDR=0x13\n",
    "ACK = 5\n",
    "\n",
    "# disable for nbdev testing\n",
    "# cleanup on exit\n",
    "#@atexit.register\n",
    "#def goodbye():\n",
    "#    try:\n",
    "#        e.cancel()\n",
    "#        pi.bsc_i2c(0) # Disable BSC peripheral\n",
    "#        pi.stop()\n",
    "#        print (\"bsc_i2c cleanup completed.\")\n",
    "#    except:\n",
    "#        print (\"bsc_i2c error on cleanup.\")\n",
    "#    print('Exiting via atexit')\n",
    "\n",
    "#export\n",
    "class PPController():\n",
    "    def i2c(id, tick):\n",
    "        global pi\n",
    "\n",
    "        s, b, d = pi.bsc_i2c(I2C_ADDR)\n",
    "        if b:\n",
    "            if d[0] == 5: # ASCII character 'ENQ' Enquiriry\n",
    "            \n",
    "                print (\"ENQ recieved\")\n",
    "                s, b, d = pi.bsc_i2c(I2C_ADDR,ACK)\n",
    "            \n",
    "#disable below for nbdev, to be placed in 'examples' file\n",
    "            \n",
    "#pi = pigpio.pi()\n",
    "\n",
    "#if not pi.connected:\n",
    "#    exit()\n",
    "\n",
    "# setup event handler to listen for heartbeat from MCU\n",
    "#e = pi.event_callback(pigpio.EVENT_BSC, i2c)                                      \n",
    "\n",
    "# open the bsc_i2c device as an i2c perpheral\n",
    "#print (\"bsc_i2c started.\")\n",
    "#pi.bsc_i2c(I2C_ADDR)                                  \n",
    "\n",
    "# since using an event handler, sleep forever\n",
    "#while True:\n",
    "#    time.sleep(600)\n",
    "\n",
    "# leftover for CI testing (CI would fail without attached hardware)    \n",
    "def connect_mcu():\n",
    "    return True"
   ]
  }
 ],
 "metadata": {
  "kernelspec": {
   "display_name": "Python 3",
   "language": "python",
   "name": "python3"
  },
  "language_info": {
   "codemirror_mode": {
    "name": "ipython",
    "version": 3
   },
   "file_extension": ".py",
   "mimetype": "text/x-python",
   "name": "python",
   "nbconvert_exporter": "python",
   "pygments_lexer": "ipython3",
   "version": "3.7.3"
  }
 },
 "nbformat": 4,
 "nbformat_minor": 2
}
