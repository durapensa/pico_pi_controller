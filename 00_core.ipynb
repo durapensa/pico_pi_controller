{
 "cells": [
  {
   "cell_type": "code",
   "execution_count": null,
   "metadata": {},
   "outputs": [],
   "source": [
    "# default_exp core"
   ]
  },
  {
   "cell_type": "markdown",
   "metadata": {},
   "source": [
    "# pico_pi_controller\n",
    "\n",
    "> A service interface for a Raspberry Pi 2/3 to be monitored & controlled from a CircuitPython capable microcontroller. Use on a RPi 4 requires a solution to enable i2c perpheral support on RPi4.\n",
    "\n",
    "This module uses `pigpio` to enable a peripheral (slave) device; `pigpiod` must be running."
   ]
  },
  {
   "cell_type": "code",
   "execution_count": null,
   "metadata": {},
   "outputs": [],
   "source": [
    "# hide\n",
    "# from nbdev.showdoc import *"
   ]
  },
  {
   "cell_type": "code",
   "execution_count": null,
   "metadata": {},
   "outputs": [],
   "source": [
    "# export\n",
    "# from sys import byteorder\n",
    "# from CircuitPython_pico_pi_common.codes import *"
   ]
  },
  {
   "cell_type": "code",
   "execution_count": null,
   "metadata": {},
   "outputs": [],
   "source": [
    "# export"
   ]
  },
  {
   "cell_type": "code",
   "execution_count": null,
   "metadata": {},
   "outputs": [
    {
     "data": {
      "application/javascript": [
       "IPython.notebook.save_checkpoint();"
      ],
      "text/plain": [
       "<IPython.core.display.Javascript object>"
      ]
     },
     "metadata": {},
     "output_type": "display_data"
    },
    {
     "name": "stdout",
     "output_type": "stream",
     "text": [
      "Converted 00_core.ipynb.\n",
      "Converted 50_ppdd.ipynb.\n",
      "Converted index.ipynb.\n"
     ]
    }
   ],
   "source": [
    "# hide\n",
    "try:\n",
    "    from IPython.display import display, Javascript\n",
    "\n",
    "    display(Javascript(\"IPython.notebook.save_checkpoint();\"))\n",
    "    from time import sleep\n",
    "\n",
    "    sleep(0.3)\n",
    "    from nbdev.export import notebook2script\n",
    "\n",
    "    notebook2script()\n",
    "except ModuleNotFoundError:\n",
    "    pass\n",
    "    \"\"\"CircuitPython kernel has no nbdev\"\"\""
   ]
  }
 ],
 "metadata": {
  "kernelspec": {
   "display_name": "Python 3",
   "language": "python",
   "name": "python3"
  }
 },
 "nbformat": 4,
 "nbformat_minor": 2
}
