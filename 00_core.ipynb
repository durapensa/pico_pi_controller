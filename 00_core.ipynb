{
 "cells": [
  {
   "cell_type": "code",
   "execution_count": 1,
   "metadata": {},
   "outputs": [],
   "source": [
    "# default_exp core"
   ]
  },
  {
   "cell_type": "markdown",
   "metadata": {},
   "source": [
    "# pico_pi_controller\n",
    "\n",
    "> A service interface for a Raspberry Pi 2/3 to be monitored & controlled from a CircuitPython capable microcontroller. Use on a RPi 4 requires a solution to enable i2c perpheral support on RPi4.\n",
    "\n",
    "This module uses `pigpio` to enable a peripheral (slave) device; `pigpiod` must be running."
   ]
  },
  {
   "cell_type": "code",
   "execution_count": 2,
   "metadata": {},
   "outputs": [],
   "source": [
    "#hide\n",
    "#from nbdev.showdoc import *"
   ]
  },
  {
   "cell_type": "code",
   "execution_count": 3,
   "metadata": {},
   "outputs": [],
   "source": [
    "#export\n",
    "from platform import node\n",
    "from os import getloadavg\n",
    "from sys import byteorder\n",
    "import time\n",
    "import pigpio\n",
    "import atexit\n",
    "\n",
    "class PPC_Device_Daemon():\n",
    "    def __init__(self):\n",
    "        I2C_ADDR=0x13\n",
    "        IDENTITY = bytearray('ppdd','ascii')\n",
    "        IDF = bytearray('I','ascii')\n",
    "        HOS = bytearray('H','ascii')\n",
    "        LOD = bytearray('L','ascii')\n",
    "        hostname = bytearray(node(),'utf-8')\n",
    "        load = bytearray(str(getloadavg()[0]),'utf-8')\n",
    "\n",
    "        @atexit.register\n",
    "        def goodbye():\n",
    "            try:\n",
    "                e.cancel()\n",
    "                pi.bsc_i2c(0) # Disable BSC peripheral\n",
    "                pi.stop()\n",
    "                print (\"bsc_i2c cleanup completed.\")\n",
    "            except:\n",
    "                print (\"bsc_i2c error on cleanup.\")\n",
    "                print('Exiting via atexit')\n",
    "\n",
    "        pi = pigpio.pi()\n",
    "        if not pi.connected:\n",
    "            print(\"pigpiod not running. Exiting.\")\n",
    "            exit()\n",
    "        # setup event handler to listen for heartbeat from MCU\n",
    "        e = pi.event_callback(pigpio.EVENT_BSC, self.i2c_event_handler)\n",
    "        while True:\n",
    "            time.sleep(600)\n",
    "    \n",
    "    def i2c_event_handler(id, tick):\n",
    "        global pi\n",
    "\n",
    "        s, b, d = pi.bsc_i2c(I2C_ADDR)\n",
    "        if b:\n",
    "            load = bytearray(\"{:04.2f}\".format(getloadavg()[0]),'utf-8')\n",
    "            if d[0] == int.from_bytes(IDF, byteorder=byteorder):\n",
    "                print (\"IDF recieved, sending identity:\",IDENTITY.decode(),\"on tick\",tick)\n",
    "                s, b, d = pi.bsc_i2c(I2C_ADDR,IDENTITY)\n",
    "            elif d[0] == int.from_bytes(HOS, byteorder=byteorder):\n",
    "                print (\"HOS recieved, sending hostname:\",hostname.decode())\n",
    "                s, b, d = pi.bsc_i2c(I2C_ADDR, bytes([len(hostname)])+hostname)\n",
    "            elif d[0] == int.from_bytes(LOD, byteorder=byteorder):\n",
    "                print (\"LOD recieved, sending load:\",load.decode())\n",
    "                s, b, d = pi.bsc_i2c(I2C_ADDR,load)\n"
   ]
  }
 ],
 "metadata": {
  "kernelspec": {
   "display_name": "Python 3",
   "language": "python",
   "name": "python3"
  },
  "language_info": {
   "codemirror_mode": {
    "name": "ipython",
    "version": 3
   },
   "file_extension": ".py",
   "mimetype": "text/x-python",
   "name": "python",
   "nbconvert_exporter": "python",
   "pygments_lexer": "ipython3",
   "version": "3.7.3"
  }
 },
 "nbformat": 4,
 "nbformat_minor": 2
}
