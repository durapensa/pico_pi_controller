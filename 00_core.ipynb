{
 "cells": [
  {
   "cell_type": "code",
   "execution_count": null,
   "metadata": {},
   "outputs": [],
   "source": [
    "# default_exp core"
   ]
  },
  {
   "cell_type": "markdown",
   "metadata": {},
   "source": [
    "# pico_pi_controller\n",
    "\n",
    "> A service interface for any Raspberry Pi like SBC to be monitored & controlled from a CircuitPython capable microcontroller. \n",
    "\n",
    "This module assumes an I2C bus `11` where the SBC is a peripheral (slave) device. On a Rapberry Pi, this is achived by adding to `/boot/config.txt` the line `dtoverlay=i2c-gpio,bus=11,i2c_gpio_delay_us=1,i2c_gpio_sda=23,i2c_gpio_scl=24`\n",
    "\n",
    "To do: import board, import busio (from adafruit-blinka), i2c = busio.I2C(scl=board.D18, sda=board.D16)\n",
    "D16 = GPIO 23\n",
    "D18 = GPIO 24\n",
    "per adafruit_blinka.microcontroller.bcm283x.pin & \n",
    "https://github.com/adafruit/Adafruit_Blinka/blob/master/src/adafruit_blinka/microcontroller/bcm283x/pin.py"
   ]
  },
  {
   "cell_type": "code",
   "execution_count": null,
   "metadata": {},
   "outputs": [],
   "source": [
    "#hide\n",
    "from nbdev.showdoc import *"
   ]
  },
  {
   "cell_type": "code",
   "execution_count": null,
   "metadata": {},
   "outputs": [],
   "source": [
    "#export\n",
    "def connect_mcu():\n",
    "    return True"
   ]
  },
  {
   "cell_type": "markdown",
   "metadata": {},
   "source": [
    "A fake test to trigger GitHub Actions CI"
   ]
  },
  {
   "cell_type": "code",
   "execution_count": null,
   "metadata": {},
   "outputs": [],
   "source": [
    "c = connect_mcu()\n",
    "assert str(c) == 'True'"
   ]
  }
 ],
 "metadata": {
  "kernelspec": {
   "display_name": "Python 3",
   "language": "python",
   "name": "python3"
  },
  "language_info": {
   "codemirror_mode": {
    "name": "ipython",
    "version": 3
   },
   "file_extension": ".py",
   "mimetype": "text/x-python",
   "name": "python",
   "nbconvert_exporter": "python",
   "pygments_lexer": "ipython3",
   "version": "3.7.3"
  }
 },
 "nbformat": 4,
 "nbformat_minor": 2
}
