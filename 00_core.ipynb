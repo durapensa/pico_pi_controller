{
 "cells": [
  {
   "cell_type": "code",
   "execution_count": null,
   "metadata": {},
   "outputs": [],
   "source": [
    "# default_exp core"
   ]
  },
  {
   "cell_type": "markdown",
   "metadata": {},
   "source": [
    "# pico_pi_controller\n",
    "\n",
    "> A service interface for a Raspberry Pi 2/3 to be monitored & controlled from a CircuitPython capable microcontroller. Use on a RPi 4 requires a solution to enable i2c perpheral support on RPi4.\n",
    "\n",
    "This module uses `pigpio` to enable a peripheral (slave) device; `pigpiod` must be running."
   ]
  },
  {
   "cell_type": "code",
   "execution_count": null,
   "metadata": {},
   "outputs": [],
   "source": [
    "# hide\n",
    "# from nbdev.showdoc import *"
   ]
  },
  {
   "cell_type": "code",
   "execution_count": null,
   "metadata": {},
   "outputs": [],
   "source": [
    "#export\n",
    "from platform import node\n",
    "from os import getloadavg, environ\n",
    "from sys import byteorder\n",
    "from threading import Thread\n",
    "import time\n",
    "import pigpio\n",
    "import atexit\n",
    "\n",
    "from CircuitPython_pico_pi_common.codes import *\n",
    "\n",
    "REG_NAME = { }\n",
    "for name, code in REG_CODE.items():\n",
    "    REG_NAME[int.from_bytes(code, byteorder=byteorder)]=name\n",
    "\n",
    "environ['TZ']=\"America/New_York\"\n",
    "time.tzset()\n",
    "\n",
    "empty = bytearray(0)\n",
    "pause = bytearray(1)\n",
    "hostname = bytearray(node(),'utf-8')\n",
    "bosmang = bytearray(int(1).to_bytes(1,byteorder))\n",
    "cmd_code = bytearray([122,0x13,0x03]) # FLICKER,0x13,3 seconds\n",
    "\n",
    "class PwrLedFlicker(Thread):\n",
    "    def __init__(self, duration):\n",
    "        Thread.__init__(self)\n",
    "        self.duration = duration\n",
    "\n",
    "    def run(self):\n",
    "        with open('/sys/class/leds/led1/brightness', 'w') as sys_pwr_led:\n",
    "            for x in range(self.duration*2):\n",
    "                sys_pwr_led.write('0')\n",
    "                sys_pwr_led.flush()\n",
    "                time.sleep(0.1)\n",
    "                sys_pwr_led.write('1')\n",
    "                sys_pwr_led.flush()\n",
    "                time.sleep(0.4)\n",
    "        sys_pwr_led.close()"
   ]
  },
  {
   "cell_type": "code",
   "execution_count": null,
   "metadata": {},
   "outputs": [
    {
     "data": {
      "application/javascript": [
       "IPython.notebook.save_checkpoint();"
      ],
      "text/plain": [
       "<IPython.core.display.Javascript object>"
      ]
     },
     "metadata": {},
     "output_type": "display_data"
    },
    {
     "name": "stdout",
     "output_type": "stream",
     "text": [
      "Converted 00_core.ipynb.\n",
      "Converted 50_daemon.ipynb.\n",
      "Converted index.ipynb.\n"
     ]
    }
   ],
   "source": [
    "# hide\n",
    "try:\n",
    "    from IPython.display import display, Javascript\n",
    "    display(Javascript('IPython.notebook.save_checkpoint();'))\n",
    "    from time import sleep\n",
    "    sleep(0.3)\n",
    "    from nbdev.export import notebook2script\n",
    "    notebook2script()\n",
    "except ModuleNotFoundError:\n",
    "    pass\n",
    "    \"\"\"CircuitPython kernel has no nbdev\"\"\"\n"
   ]
  },
  {
   "cell_type": "code",
   "execution_count": null,
   "metadata": {},
   "outputs": [],
   "source": []
  }
 ],
 "metadata": {
  "kernelspec": {
   "display_name": "Python 3",
   "language": "python",
   "name": "python3"
  }
 },
 "nbformat": 4,
 "nbformat_minor": 2
}
