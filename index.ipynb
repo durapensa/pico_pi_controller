{
 "cells": [
  {
   "cell_type": "code",
   "execution_count": 1,
   "metadata": {},
   "outputs": [],
   "source": [
    "#hide\n",
    "#from pico_pi_controller.core import *"
   ]
  },
  {
   "cell_type": "markdown",
   "metadata": {},
   "source": [
    "# pico_pi_controller\n",
    "\n",
    "> A service interface for one or more Raspberry Pi\\* SBCs to be monitored & controlled by a Raspberry Pi Pico<sup>†</sup>, *using i2c*."
   ]
  },
  {
   "cell_type": "markdown",
   "metadata": {},
   "source": [
    "## Requirements"
   ]
  },
  {
   "cell_type": "markdown",
   "metadata": {},
   "source": [
    "\n",
    "*Work in progress.* *See Hardware & Software Instructions below.*\n",
    "\n",
    "1. The RPi\\* must have GPIO pins 18 & 19 free for use by `pigpio` as SDA & SCL of secondary i2c controller.\n",
    "2. RPi4 must have manual installaltion of `pigpio` for compatible i2c use.\n",
    "3. Pico<sup>†</sup> must be running CircuitPython-6.x.\n",
    "4. Pico<sup>†</sup> must have `adafruit_bus_device` & `pico_pi_controller` CircuitPython libraries installed.\n",
    "\n",
    "\\* RPi 4/3/Zero, RPi4: GPIO pins 10 & 11; `pigpio` enables use of the Broadcom SoC secondary i2c controller as a 'peripheral' device.\n",
    "\n",
    "<sup>†</sup> or any CircuitPython-capable MCU."
   ]
  },
  {
   "cell_type": "markdown",
   "metadata": {},
   "source": [
    "## Install"
   ]
  },
  {
   "cell_type": "markdown",
   "metadata": {},
   "source": [
    "`pip install pico_pi_controller`"
   ]
  },
  {
   "cell_type": "markdown",
   "metadata": {},
   "source": [
    "## Hardware & Software Instructions"
   ]
  },
  {
   "cell_type": "markdown",
   "metadata": {},
   "source": [
    "### Quick Start"
   ]
  },
  {
   "cell_type": "markdown",
   "metadata": {},
   "source": [
    "*If using the simple setup of one RPi controlled by a Pico. Additinal RPi may be added by repeating steps 1 & 4.*\n",
    "1. Connect RPi secondary i2c pins to Pico primary i2c pins **SDA↔SDA  SCL↔SCL  GND↔GND**:\n",
    "   1. On RPi\\*, connect [GPIO pins](https://pinout.xyz/) 18 (SDA), 19 (SCL) and GND (any GND pin), e.g. using [Female/Female Jumper Wires](https://www.adafruit.com/product/1951); color conventions may be found [here](https://learn.adafruit.com/introducing-adafruit-stemma-qt/technical-specs).\n",
    "   2. On Pico†, connect wires from RPi (above) to the primary i2c bus, [board pins](https://learn.adafruit.com/getting-started-with-raspberry-pi-pico-circuitpython/pinouts) 4 (SDA), 5 (SCL), and GND (any GND pin).\n",
    "   \n",
    "2. Plug Pico into RPi USB port, e.g. using [MicroB to USB A cable](https://www.adafruit.com/product/898).\n",
    "\n",
    "3. From RPi, install CircuitPython & CircuitPython Library Bundle onto the Pico:\n",
    "    1. On RPi, download [CircuitPython](https://circuitpython.org/downloads) & [install it](https://learn.adafruit.com/welcome-to-circuitpython/installing-circuitpython) on your Pico.\n",
    "    2. On RPi, download & unzip [CircuitPython Library Bundle](https://circuitpython.org/libraries), then copy from the `lib` folder `adafruit_bus_device` to the `lib` folder on your Pico (CIRCUITPY drive).\n",
    "    \n",
    "4. On RPi, install `pico_pi_controller` components.\n",
    "    1. On RPi, install `pico_pi_controller` (e.g. `pip3 install pico_pi_controller`)\n",
    "    2. On RPi, locate‡ & copy `ppc-daemon.py` to the location of your choice and configure your system(s) to run the script on startup (it's a daemon), then reboot or manually run the daemon.\n",
    "5. From RPi, install `pico_pi_controller` for CircuitPython onto the Pico.\n",
    "    2. On RPi, download & unzip `pico_pi_controller` for CircuitPython, then copy from the `lib` folder `pico_pi_controller` to the `lib` folder on your Pico (CIRCUITPY drive).\n",
    "6. Unplug the Pico from the RPi USB port and connect it to a reguar USB power source.\n",
    "\n",
    "\\* RPi4 uses GPIO pins 10 (SDA), 11 (SCL).\n",
    "\n",
    "† Other MCU boards will have different pinouts. If using an MCU board with a Qwiic or STEMMA QT connector, e.g. [Adafruit Feather RP2040](https://www.adafruit.com/product/4884), [this cable](https://www.adafruit.com/product/4397) is useful.\n",
    "\n",
    "‡ locate the installed files, e.g. in `~/.local/lib/python3.7/site-packages/pico_pi_controller/examples`.\n"
   ]
  },
  {
   "cell_type": "markdown",
   "metadata": {
    "heading_collapsed": true
   },
   "source": [
    "## How to use"
   ]
  },
  {
   "cell_type": "markdown",
   "metadata": {
    "hidden": true
   },
   "source": [
    "Module examples"
   ]
  },
  {
   "cell_type": "markdown",
   "metadata": {},
   "source": [
    "## Next"
   ]
  },
  {
   "cell_type": "markdown",
   "metadata": {},
   "source": [
    "cleanup logging & add more status types.\n",
    "\n",
    "add Pico initiated RPi shutdown, later poweroff (using PEN)\n",
    "\n",
    "* if constant scanning of i2c is unworkable (mem frag from object create/delete), consider using button or message from RPi (specified RPi i2c address as 'console'?)\n",
    "\n",
    "logging with adafruit_logging.mpy\n",
    "\n",
    "expand LED status (NeoPixels)\n",
    "\n",
    "settings with config.py (just import the damed thing!) - less need with new classes\n",
    "\n",
    "add convention for RPi to report to Pico (over i2c) additional connections (gpio-poweroff, etc.), this to keep the Pico hands-off and config-free.\n",
    "\n",
    "notes: [.mpy](https://docs.micropython.org/en/latest/reference/mpyfiles.html)"
   ]
  },
  {
   "cell_type": "markdown",
   "metadata": {},
   "source": [
    "### Pseudo-code"
   ]
  },
  {
   "cell_type": "markdown",
   "metadata": {},
   "source": [
    "<code>\n",
    "import adafruit_logging as logging\n",
    "import config\n",
    "...\n",
    "\n",
    "DEBUG = True\n",
    "LOGGING_LEVEL = logging.DEBUG\n",
    "BASE_SPEED = 0.5\n",
    "LOG_FILE = '/log.txt'\n",
    "logger.setLevel(config.LOGGING_LEVEL)\n",
    "</code>\n",
    "\n",
    "https://circuitpython.readthedocs.io/en/latest/shared-bindings/rtc/index.html\n",
    "<code>\n",
    "    t = time.struct_time((2019,   7,    10,   17,  00,   0,    0,   -1,    -1))\n",
    "    # you must set year, mon, date, hour, min, sec and weekday\n",
    "    # yearday is not supported\n",
    "    # isdst can be set but we don't do anything with it at this time\n",
    "    print(\"Setting time to:\", t)     # uncomment for debugging\n",
    "    rtc.datetime = t\n",
    "    print(\"Done!\")\n",
    "</code>"
   ]
  },
  {
   "cell_type": "markdown",
   "metadata": {},
   "source": [
    "## Future"
   ]
  },
  {
   "cell_type": "markdown",
   "metadata": {},
   "source": [
    "### Packaging\n",
    "\n",
    "RPi: project name: pico_pi_controller (daemon exists in examples/)\n",
    "\n",
    "https://nbdev.fast.ai/ (does most of the stuff in the-hitchhikers-guide-to-packaging) \n",
    "\n",
    "https://the-hitchhikers-guide-to-packaging.readthedocs.io/en/latest/creation.html\n",
    "\n",
    "https://packaging.python.org/guides/using-manifest-in/\n",
    "\n",
    "Pico: project name: pico_pi_controller (use same name? simple program exists in code.py)\n",
    "\n",
    "[Creating a library](https://learn.adafruit.com/creating-and-sharing-a-circuitpython-library/creating-a-library) with [CookieCutter](https://cookiecutter.readthedocs.io/en/latest/)\n",
    "\n",
    "`pip3 install cookiecutter`\n",
    "`cookiecutter gh:adafruit/cookiecutter-adafruit-circuitpython`\n",
    "\n",
    "library_description: CircuitPython library for Pi SBCs to be monitored & controlled by a microcontroller board, e.g. a Pi Pico, using i2c.\n",
    "\n",
    "library_keywords: i2c pico pi sensors system shutdown load wifi PowerENable\n",
    "\n",
    "https://nbdev.fast.ai/ ?\n",
    "\n",
    "\n",
    "### Pico LEDs (using NeoPixel Stick, strip, string, etc.)\n",
    "\n",
    "status mode: (get from Keep), booting, power, heartbeat (require 3 misses?), wifi, etc.\n",
    "\n",
    "button activates selection mode, lights activate from 0 for each connected pi, dim green with a short off blink, all at the same time. bright solid green indicates the selected device (pi blinks something too?), power button will poweroff selected pi. power'd off pi blinks red, power button powers on pi.\n",
    "\n",
    "### Pico display (SPI or I2C)\n",
    "TBD: display status for one or more pi. auto-scaled to display size & number of pi. hostname?\n",
    "\n",
    "future future: use for selection, fwd, back.\n",
    "\n",
    "\n",
    "### Pico registry of connected RPis\n",
    "2 modes, non-stored & stored.\n",
    "\n",
    "Non-stored: Pico will register any connected Pi on first connect and remember until reset.\n",
    "\n",
    "Stored: Pico will will register any connected Pi on first connect and remember thru resets.\n",
    "\n",
    "See [CircuitPython Storage](https://learn.adafruit.com/circuitpython-essentials/circuitpython-storage)\n",
    "\n",
    "### Capabilities with other hardware add-ons\n",
    "\n",
    "#### Safe shutdown & startup with a single button\n",
    "\n",
    "**Can be used with single button for all connected RPis**\n",
    "Configure from RPi? i2c reports the GPIOs connected on the Pico side.\n",
    "\n",
    "\n",
    "Pico 2 GPIO:\n",
    "\n",
    "On→Off: RPi GPIO 3 (pin 5) to GND, using any Pico GPIO, only when RPi in PPC registry is offline (assumed off), prime registry?\n",
    "\n",
    "Off→On: RPi GPIO 26 to GND, using any Pico GPIO, only when RPi in PPC registry is online\n",
    "use gpio-shutdown,gpio_pin=26,active_low=1,gpio_pull=up\n",
    "\n",
    "Pico 1 GPIO:\n",
    "\n",
    "On: RPi GPIO 3 to GND, using any Pico GPIO, only when RPi in PPC registry is offline (assumed off), prime registry?\n",
    "\n",
    "Off: use i2c command to trigger systemd shutdown\n",
    "\n",
    "#### Full poweroff & poweron with a single button\n",
    "\n",
    "On→Off:\n",
    "1. above (safe shtudown for raspian), then \n",
    "2. `dtoverlay=gpio-poweroff,active_low,gpiopin=14` to detect completed shutdown\n",
    "3. PEN pull low\n",
    "\n",
    "Off→On\n",
    "1. detect state (PPC registry will have state of RPi's PEN)\n",
    "2. PEN open (power detectable on 3.3V, RPi should boot, reappear on i2c bus)\n",
    "\n",
    "If PEN is pulled low, then the PMIC shuts down the on-board power supplies in a controlled manner. The current consumption is limited to about 3mA (the PWR LED is still illuminated, and the pull-up on PEN consumes current). It is intended to be used in conjunction with an external board (HAT) that provides a UPS-like or battery-operated function.\n",
    "\n",
    "Works like the [exampe](https://www.instructables.com/HOW-TO-TURN-OFF-RASPBERRY-PI-PROPERLY/) using a [Pololu Mini Pushbutton Power Switch with Reverse Voltage Protection, LV](https://www.pololu.com/product/2808) bus uses the PEN RPi board pin.\n",
    "\n",
    "#### Full poweroff & poweron with selection buttons\n",
    "**Requires LEDs or display above**\n",
    "\n",
    "`pigpio` use: great if this encourages the RPi Foundation to implement an I2C peripheral kernel driver & coresponding dtoveray for the Broadcom SoC's secondary i2c controller!"
   ]
  }
 ],
 "metadata": {
  "celltoolbar": "Raw Cell Format",
  "kernelspec": {
   "display_name": "Python 3",
   "language": "python",
   "name": "python3"
  },
  "language_info": {
   "codemirror_mode": {
    "name": "ipython",
    "version": 3
   },
   "file_extension": ".py",
   "mimetype": "text/x-python",
   "name": "python",
   "nbconvert_exporter": "python",
   "pygments_lexer": "ipython3",
   "version": "3.7.3"
  },
  "toc": {
   "base_numbering": 1,
   "nav_menu": {},
   "number_sections": true,
   "sideBar": true,
   "skip_h1_title": false,
   "title_cell": "Table of Contents",
   "title_sidebar": "Contents",
   "toc_cell": false,
   "toc_position": {},
   "toc_section_display": true,
   "toc_window_display": false
  }
 },
 "nbformat": 4,
 "nbformat_minor": 2
}
