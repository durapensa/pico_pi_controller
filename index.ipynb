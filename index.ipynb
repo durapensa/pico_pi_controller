{
 "cells": [
  {
   "cell_type": "code",
   "execution_count": null,
   "metadata": {},
   "outputs": [],
   "source": [
    "#hide\n",
    "#from pico_pi_controller.core import *"
   ]
  },
  {
   "cell_type": "markdown",
   "metadata": {},
   "source": [
    "# pico_pi_controller\n",
    "\n",
    "> A service interface for one or more Raspberry Pi\\* SBCs to be monitored & controlled by a Raspberry Pi Pico<sup>†</sup>, *using i2c*."
   ]
  },
  {
   "cell_type": "markdown",
   "metadata": {},
   "source": [
    "## Requirements"
   ]
  },
  {
   "cell_type": "markdown",
   "metadata": {},
   "source": [
    "\n",
    "*Work in progress.* *See Hardware & [Software Instructions below](#Hardware-&-Software-Instructions).*\n",
    "\n",
    "1. The RPi\\* must have GPIO pins 18 & 19 free for use by `pigpio` as SDA & SCL of secondary i2c controller.\n",
    "2. RPi4 must have manual installaltion of `pigpio` for compatible i2c use.\n",
    "3. Pico<sup>†</sup> must be running CircuitPython-6.x.\n",
    "4. Pico<sup>†</sup> must have `adafruit_bus_device` & `pico_pi_controller` CircuitPython libraries installed.\n",
    "\n",
    "\\* RPi 4/3/Zero, RPi4: GPIO pins 10 & 11; `pigpio` enables use of the Broadcom SoC secondary i2c controller as a 'peripheral' device.\n",
    "\n",
    "<sup>†</sup> or any CircuitPython-capable MCU."
   ]
  },
  {
   "cell_type": "markdown",
   "metadata": {},
   "source": [
    "## Install"
   ]
  },
  {
   "cell_type": "markdown",
   "metadata": {},
   "source": [
    "`pip install pico_pi_controller`"
   ]
  },
  {
   "cell_type": "markdown",
   "metadata": {},
   "source": [
    "## Hardware & Software Instructions"
   ]
  },
  {
   "cell_type": "markdown",
   "metadata": {},
   "source": [
    "### Quick Start"
   ]
  },
  {
   "cell_type": "markdown",
   "metadata": {},
   "source": [
    "*If using the simple setup of one RPi controlled by a Pico. Additinal RPi may be added by repeating steps 1 & 4.*\n",
    "1. Connect RPi secondary i2c pins to Pico primary i2c pins **SDA↔SDA  SCL↔SCL  GND↔GND**:\n",
    "   1. On RPi\\*, connect [GPIO pins](https://pinout.xyz/) 18 (SDA), 19 (SCL) and GND (any GND pin), e.g. using [Female/Female Jumper Wires](https://www.adafruit.com/product/1951); color conventions may be found [here](https://learn.adafruit.com/introducing-adafruit-stemma-qt/technical-specs).\n",
    "   2. On Pico†, connect wires from RPi (above) to the primary i2c bus, [board pins](https://learn.adafruit.com/getting-started-with-raspberry-pi-pico-circuitpython/pinouts) 4 (SDA), 5 (SCL), and GND (any GND pin).\n",
    "   \n",
    "2. Plug Pico into RPi USB port, e.g. using [MicroB to USB A cable](https://www.adafruit.com/product/898).\n",
    "\n",
    "3. From RPi, install CircuitPython & CircuitPython Library Bundle onto the Pico:\n",
    "    1. On RPi, download [CircuitPython](https://circuitpython.org/downloads) & [install it](https://learn.adafruit.com/welcome-to-circuitpython/installing-circuitpython) on your Pico.\n",
    "    2. On RPi, download & unzip [CircuitPython Library Bundle](https://circuitpython.org/libraries), then copy from the `lib` folder `adafruit_bus_device` to the `lib` folder on your Pico (CIRCUITPY drive).\n",
    "    \n",
    "4. On RPi, install `pico_pi_controller` components.\n",
    "    1. On RPi, install `pico_pi_controller` (e.g. `pip3 install pico_pi_controller`)\n",
    "    2. On RPi, locate‡ & copy `ppc-daemon.py` to the location of your choice and configure your system(s) to run the script on startup (it's a daemon), then reboot or manually run the daemon.\n",
    "5. From RPi, install `pico_pi_controller` for CircuitPython onto the Pico.\n",
    "    2. On RPi, download & unzip `pico_pi_controller` for CircuitPython, then copy from the `lib` folder `pico_pi_controller` to the `lib` folder on your Pico (CIRCUITPY drive).\n",
    "6. Unplug the Pico from the RPi USB port and connect it to a reguar USB power source.\n",
    "\n",
    "\\* RPi4 uses GPIO pins 10 (SDA), 11 (SCL).\n",
    "\n",
    "† Other MCU boards will have different pinouts. If using an MCU board with a Qwiic or STEMMA QT connector, e.g. [Adafruit Feather RP2040](https://www.adafruit.com/product/4884), [this cable](https://www.adafruit.com/product/4397) is useful.\n",
    "\n",
    "‡ locate the installed files, e.g. in `~/.local/lib/python3.7/site-packages/pico_pi_controller/examples`.\n"
   ]
  },
  {
   "cell_type": "markdown",
   "metadata": {},
   "source": [
    "## How to use"
   ]
  },
  {
   "cell_type": "markdown",
   "metadata": {},
   "source": [
    "On each RPi, with `pigpiod` running, run this example `ppc-daemon.py` script:\n",
    "\n",
    "```python\n",
    "import pico_pi_controller\n",
    "\n",
    "mydevice = pico_pi_controller.PPPeripheral(0x13)\n",
    "```\n",
    "\n",
    "Where `0x13` is the chosen *unique* I2C address of your RPi on the I2C bus where an MCU controller is running (e.g. a Pico running `CircuitPython_pico_pi_controller`.\n",
    "\n",
    "A more sophisticated example:\n",
    "\n",
    "```python\n",
    "import pico_pi_controller\n",
    "import time\n",
    "import threading\n",
    "import logging\n",
    "    \n",
    "address=0x13\n",
    "    \n",
    "def i2c_peripheral(address):\n",
    "    global mydevice\n",
    "    mydevice = pico_pi_controller.PPPeripheral(*args, **kwargs)\n",
    "    logging.info(\"PPC: starting I2C peripheral \",hex(address))\n",
    "    \n",
    "t = threading.Thread(target=i2c_peripheral(address, bosmang=True, UART_TX=8, UART_RX=9, PWR=10, PEN=11)\n",
    "threads.append(t)\n",
    "t.start()\n",
    "\n",
    "while True:\n",
    "    logging.info(\"PPC: last controller contact\",mydevice.last_contact(),\"seconds ago.\")\n",
    "    sleep(1)\n",
    "```\n",
    "\n",
    "When your device declares itself to be *bosmang*, it sends its own datetime for setting the controller's RTC. Optionally, a *bosmang* can send commands to the controller, e.g. to reboot or shutdown any connected RPi. Additionally, *bosmang* may have its console UART, gpio-poweroff, and PEN pins connected to GPIO pins on the controller which enables the controller to execute a safe shutdown & poweroff plus full poweronn of *bosmang*."
   ]
  }
 ],
 "metadata": {
  "kernelspec": {
   "display_name": "Python 3",
   "language": "python",
   "name": "python3"
  }
 },
 "nbformat": 4,
 "nbformat_minor": 2
}
