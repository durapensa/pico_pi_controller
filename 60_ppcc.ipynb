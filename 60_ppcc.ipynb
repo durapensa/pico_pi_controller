{
 "cells": [
  {
   "cell_type": "code",
   "execution_count": null,
   "id": "experienced-breeding",
   "metadata": {},
   "outputs": [],
   "source": [
    "# default_exp ppcc"
   ]
  },
  {
   "cell_type": "markdown",
   "id": "likely-assurance",
   "metadata": {},
   "source": [
    "# pico_pi_controller.ppcc\n",
    "> Command line tool"
   ]
  },
  {
   "cell_type": "code",
   "execution_count": null,
   "id": "vulnerable-beads",
   "metadata": {},
   "outputs": [],
   "source": [
    "# hide\n",
    "# from nbdev.showdoc import *"
   ]
  },
  {
   "cell_type": "code",
   "execution_count": null,
   "id": "rapid-variety",
   "metadata": {},
   "outputs": [],
   "source": [
    "#export\n",
    "#!/usr/bin/python3"
   ]
  },
  {
   "cell_type": "code",
   "execution_count": null,
   "id": "accepted-belfast",
   "metadata": {},
   "outputs": [],
   "source": [
    "# export\n",
    "from sys import byteorder\n",
    "from platform import node\n",
    "import threading, _thread\n",
    "import socket\n",
    "import argparse, logging\n",
    "import atexit\n",
    "import datetime, time\n",
    "from CircuitPython_pico_pi_common.codes import *\n",
    "\n",
    "logger = logging.getLogger()\n",
    "logging.basicConfig(level = logging.DEBUG)"
   ]
  },
  {
   "cell_type": "code",
   "execution_count": null,
   "id": "following-apparatus",
   "metadata": {},
   "outputs": [
    {
     "name": "stderr",
     "output_type": "stream",
     "text": [
      "INFO:root:ppdd main    unrecognized command line arguments: -f         |\n"
     ]
    },
    {
     "name": "stdout",
     "output_type": "stream",
     "text": [
      "Connected to localhost\n",
      "Sent:  bytearray(b'z\\x13\\x03\\n')\n",
      "Received:  Command receivd. Awaiting confirmation from PPController\n",
      "Connection closed\n"
     ]
    }
   ],
   "source": [
    "# export\n",
    "tcp_address = ('127.0.0.1', 16164)\n",
    "\n",
    "REG_NAME = {}\n",
    "REG_INT = []\n",
    "for name, code in REG_CODE.items():\n",
    "    REG_NAME[int.from_bytes(code, byteorder=byteorder)] = name\n",
    "    REG_INT.append(int.from_bytes(code, byteorder=byteorder))\n",
    "    \n",
    "def log_txn(fname, message, msg=None):\n",
    "        \"\"\"Wrapper for logger.\"\"\"\n",
    "        id_str = ID_CODE.decode()\n",
    "        i2c_str = '|'\n",
    "        logger.info('%-4s %-7s %-47s %s' % (id_str, fname, message+str(msg or ''), i2c_str))\n",
    "\n",
    "@atexit.register\n",
    "def goodbye():\n",
    "    \"\"\"Cancel any socket connections\"\"\"\n",
    "    fname='goodbye'\n",
    "    global ppcc_socket\n",
    "    if 'ppcc_socket' in locals():\n",
    "        try:\n",
    "            ppcc_socket.close()\n",
    "            log_txn(fname,\"TCP socket cleanup completed.\")\n",
    "        except:\n",
    "            log_txn(fname,\"TCP socket error on cleanup.\")\n",
    "    print(fname,\"Exiting.\")\n",
    "\n",
    "def connect_ppdd():\n",
    "    ppcc_socket = socket.socket()\n",
    "    ppcc_socket.connect(tcp_address)\n",
    "    print(\"Connected to localhost\")\n",
    "\n",
    "    command = bytearray([CMD_CODE['FLICKER']])+bytearray([0x13])+bytearray([0x03])+bytearray([0x0A])\n",
    "\n",
    "    ppcc_socket.sendall(command)\n",
    "    print(\"Sent: \",command)\n",
    "\n",
    "    # Receive the data\n",
    "    while(True):\n",
    "        data = ppcc_socket.recv(56)\n",
    "        if(data==b''):\n",
    "            print(\"Connection closed\")\n",
    "            break\n",
    "        print(\"Received: \",data.decode())\n",
    "    ppcc_socket.close()\n",
    "    \n",
    "def main():\n",
    "    fname='main'\n",
    "    global ppcc_socket\n",
    "    \n",
    "    # handle command-line arguments\n",
    "    parser = argparse.ArgumentParser(description='ppdd argument parser')\n",
    "    parser.add_argument('command', type=str, help=\"Command to send\")\n",
    "    parser.add_argument('-c', default='localhost', type=str, help=\"Default: PPController at localhost\")\n",
    "    parser.add_argument('-a', default='0x13', type=str, help=\"Default: address is bosmang.\")\n",
    "    parser.add_argument('-b', action=\"store_true\", help=\"Send command to bosmang\")\n",
    "    \n",
    "    args, unknown = parser.parse_known_args()\n",
    "    \n",
    "    for arg in unknown:\n",
    "        log_txn(fname,\"unrecognized command line arguments: \",arg)\n",
    "    \n",
    "    if args.b:\n",
    "        pass\n",
    "        \n",
    "    if args.command == 'flicker':\n",
    "        print(\"FLICKER command given\")\n",
    "        \n",
    "    # setup socket client for messages to & from ppdd\n",
    "    \n",
    "    #thread_list  = []\n",
    "    #thread_count = 1\n",
    "\n",
    "    #for index in range(thread_count):\n",
    "    connection_thread = threading.Thread(target=connect_ppdd())\n",
    "    #    thread_list.append(connection_thread)\n",
    "        \n",
    "    #for index in range(thread_count):\n",
    "    #    thread_list[index].join()\n",
    "\n",
    "if __name__ == '__main__':\n",
    "    try:\n",
    "        main()\n",
    "    except KeyboardInterrupt as e:\n",
    "        # handled by atexit\n",
    "        #exit(str('Exiting.'))\n",
    "        pass"
   ]
  },
  {
   "cell_type": "code",
   "execution_count": null,
   "id": "renewable-burlington",
   "metadata": {},
   "outputs": [
    {
     "name": "stderr",
     "output_type": "stream",
     "text": [
      "No traceback available to show.\n"
     ]
    }
   ],
   "source": [
    "%tb"
   ]
  },
  {
   "cell_type": "code",
   "execution_count": null,
   "id": "dying-auditor",
   "metadata": {},
   "outputs": [
    {
     "data": {
      "application/javascript": [
       "IPython.notebook.save_checkpoint();"
      ],
      "text/plain": [
       "<IPython.core.display.Javascript object>"
      ]
     },
     "metadata": {},
     "output_type": "display_data"
    },
    {
     "name": "stdout",
     "output_type": "stream",
     "text": [
      "Converted 00_core.ipynb.\n",
      "Converted 50_ppdd.ipynb.\n",
      "Converted 60_ppcc.ipynb.\n",
      "Converted index.ipynb.\n"
     ]
    }
   ],
   "source": [
    "# hide\n",
    "try:\n",
    "    from IPython.display import display, Javascript\n",
    "    display(Javascript('IPython.notebook.save_checkpoint();'))\n",
    "    from time import sleep\n",
    "    sleep(0.3)\n",
    "    from nbdev.export import notebook2script\n",
    "    notebook2script()\n",
    "except ModuleNotFoundError:\n",
    "    pass\n",
    "    \"\"\"CircuitPython kernel has no nbdev\"\"\""
   ]
  },
  {
   "cell_type": "code",
   "execution_count": null,
   "id": "conceptual-birthday",
   "metadata": {},
   "outputs": [],
   "source": []
  }
 ],
 "metadata": {
  "kernelspec": {
   "display_name": "Python 3",
   "language": "python",
   "name": "python3"
  }
 },
 "nbformat": 4,
 "nbformat_minor": 5
}
