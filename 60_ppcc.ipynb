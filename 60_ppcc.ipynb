{
 "cells": [
  {
   "cell_type": "code",
   "execution_count": null,
   "id": "experienced-breeding",
   "metadata": {},
   "outputs": [],
   "source": [
    "# default_exp ppcc"
   ]
  },
  {
   "cell_type": "markdown",
   "id": "likely-assurance",
   "metadata": {},
   "source": [
    "# pico_pi_controller.ppcc\n",
    "> Command line tool"
   ]
  },
  {
   "cell_type": "code",
   "execution_count": null,
   "id": "vulnerable-beads",
   "metadata": {},
   "outputs": [],
   "source": [
    "# hide\n",
    "# from nbdev.showdoc import *"
   ]
  },
  {
   "cell_type": "code",
   "execution_count": null,
   "id": "overall-mining",
   "metadata": {},
   "outputs": [],
   "source": [
    "#export\n",
    "#!/usr/bin/python3"
   ]
  },
  {
   "cell_type": "code",
   "execution_count": null,
   "id": "accepted-belfast",
   "metadata": {},
   "outputs": [],
   "source": [
    "# export\n",
    "from sys import byteorder\n",
    "import threading, _thread\n",
    "import argparse, logging\n",
    "import atexit\n",
    "import datetime, time\n",
    "import uuid, socket\n",
    "from CircuitPython_pico_pi_common.codes import *\n",
    "\n",
    "logger = logging.getLogger()\n",
    "logging.basicConfig(level = logging.DEBUG)"
   ]
  },
  {
   "cell_type": "code",
   "execution_count": null,
   "id": "following-apparatus",
   "metadata": {},
   "outputs": [
    {
     "ename": "NameError",
     "evalue": "name 'atexit' is not defined",
     "output_type": "error",
     "traceback": [
      "\u001b[0;31m---------------------------------------------------------------------------\u001b[0m",
      "\u001b[0;31mNameError\u001b[0m                                 Traceback (most recent call last)",
      "\u001b[0;32m<ipython-input-1-91793cacb523>\u001b[0m in \u001b[0;36m<module>\u001b[0;34m\u001b[0m\n\u001b[1;32m      8\u001b[0m         \u001b[0mlogger\u001b[0m\u001b[0;34m.\u001b[0m\u001b[0minfo\u001b[0m\u001b[0;34m(\u001b[0m\u001b[0;34m'%-4s %-7s %-47s %s'\u001b[0m \u001b[0;34m%\u001b[0m \u001b[0;34m(\u001b[0m\u001b[0mid_str\u001b[0m\u001b[0;34m,\u001b[0m \u001b[0mfname\u001b[0m\u001b[0;34m,\u001b[0m \u001b[0mmessage\u001b[0m\u001b[0;34m+\u001b[0m\u001b[0mstr\u001b[0m\u001b[0;34m(\u001b[0m\u001b[0mmsg\u001b[0m \u001b[0;32mor\u001b[0m \u001b[0;34m''\u001b[0m\u001b[0;34m)\u001b[0m\u001b[0;34m,\u001b[0m \u001b[0mi2c_str\u001b[0m\u001b[0;34m)\u001b[0m\u001b[0;34m)\u001b[0m\u001b[0;34m\u001b[0m\u001b[0;34m\u001b[0m\u001b[0m\n\u001b[1;32m      9\u001b[0m \u001b[0;34m\u001b[0m\u001b[0m\n\u001b[0;32m---> 10\u001b[0;31m \u001b[0;34m@\u001b[0m\u001b[0matexit\u001b[0m\u001b[0;34m.\u001b[0m\u001b[0mregister\u001b[0m\u001b[0;34m\u001b[0m\u001b[0;34m\u001b[0m\u001b[0m\n\u001b[0m\u001b[1;32m     11\u001b[0m \u001b[0;32mdef\u001b[0m \u001b[0mgoodbye\u001b[0m\u001b[0;34m(\u001b[0m\u001b[0;34m)\u001b[0m\u001b[0;34m:\u001b[0m\u001b[0;34m\u001b[0m\u001b[0;34m\u001b[0m\u001b[0m\n\u001b[1;32m     12\u001b[0m     \u001b[0;34m\"\"\"Cancel any socket connections\"\"\"\u001b[0m\u001b[0;34m\u001b[0m\u001b[0;34m\u001b[0m\u001b[0m\n",
      "\u001b[0;31mNameError\u001b[0m: name 'atexit' is not defined"
     ]
    }
   ],
   "source": [
    "# export\n",
    "tcp_address = ('127.0.0.1', 16164)\n",
    "\n",
    "def log_txn(fname, message, msg=None):\n",
    "        \"\"\"Wrapper for logger.\"\"\"\n",
    "        id_str = ID_CODE.decode()\n",
    "        i2c_str = '|'\n",
    "        logger.info('%-4s %-7s %-47s %s' % (id_str, fname, message+str(msg or ''), i2c_str))\n",
    "\n",
    "@atexit.register\n",
    "def goodbye():\n",
    "    \"\"\"Cancel any socket connections\"\"\"\n",
    "    fname='goodbye'\n",
    "    global ppcc_socket\n",
    "    if 'ppcc_socket' in locals():\n",
    "        try:\n",
    "            ppcc_socket.close()\n",
    "            log_txn(fname,\"TCP socket cleanup completed.\")\n",
    "        except:\n",
    "            log_txn(fname,\"TCP socket error on cleanup.\")\n",
    "    #print(fname,\"Exiting.\")\n",
    "\n",
    "def connect_ppdd(command):\n",
    "    fname='connect_ppdd'\n",
    "    ppcc_socket = socket.socket()\n",
    "    ppcc_socket.connect(tcp_address)\n",
    "    # as this is blocking, a timeout? here or at ppdd?\n",
    "    # if i2c_addr == 0xFF (all ppds) then multiple replies will be received.\n",
    "\n",
    "    # Send the command to ppdd\n",
    "    num_bytes_sent = ppcc_socket.send(bytearray([len(command)]) + command)\n",
    "    \n",
    "    cmd_code, i2c_addr, cmdargs, cmd_uid, valid_status = parse_cmd(command)\n",
    "        \n",
    "    print(\"SENT\",hex(i2c_addr),CMD_NAME[cmd_code],len(cmdargs),\"args:\",str(cmdargs)[13:-2],\n",
    "              \"UID\",str(hex(int.from_bytes(cmd_uid, byteorder)))[2:],\" \", end='' )\n",
    "    \n",
    "    # Receive the confirmation echo in reply:\n",
    "    reply = None\n",
    "    while reply != command:\n",
    "        reply = bytearray(ppcc_socket.recv(len(command)))\n",
    "        if(reply==b''):\n",
    "            print(\"Connection closed\")\n",
    "            break\n",
    "        cmd_code, i2c_addr, cmdargs, cmd_uid, valid_status = parse_cmd(reply)\n",
    "        print(\"CONFIRMED\")\n",
    "    ppcc_socket.close()\n",
    "    \n",
    "def main():\n",
    "    fname='main'\n",
    "    global ppcc_socket\n",
    "    \n",
    "    # handle command-line arguments\n",
    "    parser = argparse.ArgumentParser(description='ppdd argument parser')\n",
    "    parser.add_argument('command', type=str, help=\"Command to send\")\n",
    "    parser.add_argument('-c', default='localhost', type=str, help=\"Default: PPController at localhost\")\n",
    "    parser.add_argument('-a', default='0x13', type=str, help=\"Default address: bosmang.\")\n",
    "    parser.add_argument('-b', action=\"store_true\", help=\"Send command to bosmang\")\n",
    "    \n",
    "    args, unknown = parser.parse_known_args()\n",
    "    for arg in unknown:\n",
    "        log_txn(fname,\"unrecognized command line arguments: \",arg)\n",
    "    #if args.command == 'flicker':\n",
    "    #    print(\"FLICKER command given\")\n",
    "\n",
    "    cmd_uid = uuid.uuid4().int>>64\n",
    "    command = bytearray([CMD_CODE['FLICKER']])+ \\\n",
    "              bytearray([0x13])+ \\\n",
    "              bytearray([0x01])+ \\\n",
    "              bytearray(cmd_uid.to_bytes(8,byteorder)) \n",
    "    \n",
    "    # flicker cmd bytes: 1 len, 1 cmd code, 8 uuid, 1 device_address, 1 duration\n",
    "    # note, the PPC will track the i2c_addr of the sender\n",
    "    \n",
    "    # todo: ppcc to ask ppdd on every connect: self addr, bosmang\n",
    "    \n",
    "    # setup socket client for messages to & from ppdd\n",
    "    #for index in range(thread_count):\n",
    "    connection_thread = threading.Thread(target=connect_ppdd(command))\n",
    "    #    thread_list.append(connection_thread)\n",
    "        \n",
    "    #for index in range(thread_count):\n",
    "    #    thread_list[index].join()\n",
    "\n",
    "if __name__ == '__main__':\n",
    "    try:\n",
    "        main()\n",
    "    except KeyboardInterrupt as e:\n",
    "        # handled by atexit\n",
    "        #exit(str('Exiting.'))\n",
    "        pass"
   ]
  },
  {
   "cell_type": "code",
   "execution_count": null,
   "id": "renewable-burlington",
   "metadata": {},
   "outputs": [
    {
     "name": "stderr",
     "output_type": "stream",
     "text": [
      "No traceback available to show.\n"
     ]
    }
   ],
   "source": [
    "%tb"
   ]
  },
  {
   "cell_type": "code",
   "execution_count": null,
   "id": "dying-auditor",
   "metadata": {},
   "outputs": [
    {
     "data": {
      "application/javascript": [
       "IPython.notebook.save_checkpoint();"
      ],
      "text/plain": [
       "<IPython.core.display.Javascript object>"
      ]
     },
     "metadata": {},
     "output_type": "display_data"
    },
    {
     "name": "stdout",
     "output_type": "stream",
     "text": [
      "Converted 00_core.ipynb.\n",
      "Converted 50_ppdd.ipynb.\n",
      "Converted 60_ppcc.ipynb.\n",
      "Converted index.ipynb.\n"
     ]
    }
   ],
   "source": [
    "# hide\n",
    "try:\n",
    "    from IPython.display import display, Javascript\n",
    "    display(Javascript('IPython.notebook.save_checkpoint();'))\n",
    "    from time import sleep\n",
    "    sleep(0.3)\n",
    "    from nbdev.export import notebook2script\n",
    "    notebook2script()\n",
    "except ModuleNotFoundError:\n",
    "    pass\n",
    "    \"\"\"CircuitPython kernel has no nbdev\"\"\""
   ]
  },
  {
   "cell_type": "code",
   "execution_count": null,
   "id": "conceptual-birthday",
   "metadata": {},
   "outputs": [],
   "source": []
  }
 ],
 "metadata": {
  "kernelspec": {
   "display_name": "Python 3",
   "language": "python",
   "name": "python3"
  }
 },
 "nbformat": 4,
 "nbformat_minor": 5
}
